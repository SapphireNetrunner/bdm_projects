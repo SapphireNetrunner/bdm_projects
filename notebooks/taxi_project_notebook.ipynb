{
  "nbformat": 4,
  "nbformat_minor": 0,
  "metadata": {
    "colab": {
      "provenance": []
    },
    "kernelspec": {
      "name": "python3",
      "display_name": "Python 3"
    },
    "language_info": {
      "name": "python"
    }
  },
  "cells": [
    {
      "cell_type": "markdown",
      "source": [
        "# Testing part\n"
      ],
      "metadata": {
        "id": "jVp2sAW2H7hA"
      }
    },
    {
      "cell_type": "code",
      "source": [
        "!pip install PySpark"
      ],
      "metadata": {
        "colab": {
          "base_uri": "https://localhost:8080/"
        },
        "id": "i7vbeiz4DwLr",
        "outputId": "bdda9cbc-b708-4e3f-a947-d47fc4c3405a"
      },
      "execution_count": 2,
      "outputs": [
        {
          "output_type": "stream",
          "name": "stdout",
          "text": [
            "Requirement already satisfied: PySpark in /usr/local/lib/python3.11/dist-packages (3.5.5)\n",
            "Requirement already satisfied: py4j==0.10.9.7 in /usr/local/lib/python3.11/dist-packages (from PySpark) (0.10.9.7)\n"
          ]
        }
      ]
    },
    {
      "cell_type": "code",
      "source": [
        "from pyspark.sql import SparkSession\n",
        "\n",
        "spark = SparkSession.builder.appName(\"DataLoading\").getOrCreate()\n",
        "df = spark.read.csv(\"/content/Sample_NYC_Data.csv\", header=True, inferSchema=True)\n",
        "\n",
        "\n"
      ],
      "metadata": {
        "id": "5nYyX4AGD5G1"
      },
      "execution_count": 3,
      "outputs": []
    },
    {
      "cell_type": "code",
      "source": [
        "print(df)"
      ],
      "metadata": {
        "colab": {
          "base_uri": "https://localhost:8080/"
        },
        "id": "NY-xCH4HEs4J",
        "outputId": "472ea0ad-1703-4b89-ee26-5c5ca618d19a"
      },
      "execution_count": 4,
      "outputs": [
        {
          "output_type": "stream",
          "name": "stdout",
          "text": [
            "DataFrame[medallion: string, hack_license: string, vendor_id: string, rate_code: int, store_and_fwd_flag: string, pickup_datetime: string, dropoff_datetime: string, passenger_count: int, pickup_longitude: double, pickup_latitude: double, dropoff_longitude: double, dropoff_latitude: double]\n"
          ]
        }
      ]
    },
    {
      "cell_type": "code",
      "source": [
        "column_names = df.columns\n",
        "print(column_names)"
      ],
      "metadata": {
        "colab": {
          "base_uri": "https://localhost:8080/"
        },
        "id": "5PYpj4QmFjH8",
        "outputId": "99e6d6f1-e481-48f8-dab8-e7524b582442"
      },
      "execution_count": 6,
      "outputs": [
        {
          "output_type": "stream",
          "name": "stdout",
          "text": [
            "['medallion', 'hack_license', 'vendor_id', 'rate_code', 'store_and_fwd_flag', 'pickup_datetime', 'dropoff_datetime', 'passenger_count', 'pickup_longitude', 'pickup_latitude', 'dropoff_longitude', 'dropoff_latitude']\n"
          ]
        }
      ]
    },
    {
      "cell_type": "code",
      "source": [
        "#SORTED?\n",
        "\n",
        "from pyspark.sql.functions import asc\n",
        "sorted_df = df.orderBy(asc(\"dropoff_datetime\"))"
      ],
      "metadata": {
        "id": "m1itmUE9G9Fc"
      },
      "execution_count": 10,
      "outputs": []
    },
    {
      "cell_type": "code",
      "source": [
        "sorted_df.show(truncate=False, vertical=True)"
      ],
      "metadata": {
        "colab": {
          "base_uri": "https://localhost:8080/"
        },
        "id": "A2INnlWDHY3G",
        "outputId": "23d5a3d4-e320-4c5c-e831-a14649e90431"
      },
      "execution_count": 13,
      "outputs": [
        {
          "output_type": "stream",
          "name": "stdout",
          "text": [
            "-RECORD 0----------------------------------------------\n",
            " medallion          | 3E841B83C3B99F71F38C483C76D39E4F \n",
            " hack_license       | 21D086F9F8A40D99A834C253B05DD6D4 \n",
            " vendor_id          | VTS                              \n",
            " rate_code          | 1                                \n",
            " store_and_fwd_flag | NULL                             \n",
            " pickup_datetime    | 01-01-13 00:20                   \n",
            " dropoff_datetime   | 01-01-13 00:20                   \n",
            " passenger_count    | 1                                \n",
            " pickup_longitude   | 0.0                              \n",
            " pickup_latitude    | 0.0                              \n",
            " dropoff_longitude  | 0.0                              \n",
            " dropoff_latitude   | 0.0                              \n",
            "-RECORD 1----------------------------------------------\n",
            " medallion          | 63E1CE031EDB33209F200A44A2A50532 \n",
            " hack_license       | DCD6A3DA3488EF99AAC46FE0EF41449B \n",
            " vendor_id          | VTS                              \n",
            " rate_code          | 5                                \n",
            " store_and_fwd_flag | NULL                             \n",
            " pickup_datetime    | 01-01-13 00:21                   \n",
            " dropoff_datetime   | 01-01-13 00:21                   \n",
            " passenger_count    | 1                                \n",
            " pickup_longitude   | 0.0                              \n",
            " pickup_latitude    | 0.0                              \n",
            " dropoff_longitude  | 0.0                              \n",
            " dropoff_latitude   | 0.0                              \n",
            "-RECORD 2----------------------------------------------\n",
            " medallion          | B3948FE1C9BAA60429084C3C8C742439 \n",
            " hack_license       | C63F0F41FE26715299FCFE119C066D37 \n",
            " vendor_id          | VTS                              \n",
            " rate_code          | 1                                \n",
            " store_and_fwd_flag | NULL                             \n",
            " pickup_datetime    | 01-01-13 01:04                   \n",
            " dropoff_datetime   | 01-01-13 01:24                   \n",
            " passenger_count    | 2                                \n",
            " pickup_longitude   | -73.980148                       \n",
            " pickup_latitude    | 40.742676                        \n",
            " dropoff_longitude  | -73.984367                       \n",
            " dropoff_latitude   | 40.770008                        \n",
            "-RECORD 3----------------------------------------------\n",
            " medallion          | 6FC85A1A4C9E9824D0D1A10532166A81 \n",
            " hack_license       | F83A6C49D423DA3266BB1268FCE4E568 \n",
            " vendor_id          | VTS                              \n",
            " rate_code          | 1                                \n",
            " store_and_fwd_flag | NULL                             \n",
            " pickup_datetime    | 01-01-13 02:17                   \n",
            " dropoff_datetime   | 01-01-13 02:25                   \n",
            " passenger_count    | 1                                \n",
            " pickup_longitude   | 0.0                              \n",
            " pickup_latitude    | 0.0                              \n",
            " dropoff_longitude  | 0.0                              \n",
            " dropoff_latitude   | 0.0                              \n",
            "-RECORD 4----------------------------------------------\n",
            " medallion          | A4142B3536A686E0AF19544F86E1FE08 \n",
            " hack_license       | B063A1EAECC781EA74195C6F27F43C20 \n",
            " vendor_id          | VTS                              \n",
            " rate_code          | 1                                \n",
            " store_and_fwd_flag | NULL                             \n",
            " pickup_datetime    | 01-01-13 02:28                   \n",
            " dropoff_datetime   | 01-01-13 02:38                   \n",
            " passenger_count    | 1                                \n",
            " pickup_longitude   | 0.0                              \n",
            " pickup_latitude    | 0.0                              \n",
            " dropoff_longitude  | 0.0                              \n",
            " dropoff_latitude   | 0.0                              \n",
            "-RECORD 5----------------------------------------------\n",
            " medallion          | 1E170F1AC4227B6A930CE041C54FAC55 \n",
            " hack_license       | 3178E9041332A4F037E6FDE5C2CB92FA \n",
            " vendor_id          | VTS                              \n",
            " rate_code          | 1                                \n",
            " store_and_fwd_flag | NULL                             \n",
            " pickup_datetime    | 01-01-13 03:02                   \n",
            " dropoff_datetime   | 01-01-13 03:05                   \n",
            " passenger_count    | 1                                \n",
            " pickup_longitude   | -73.998253                       \n",
            " pickup_latitude    | 40.754307                        \n",
            " dropoff_longitude  | -73.996323                       \n",
            " dropoff_latitude   | 40.758247                        \n",
            "-RECORD 6----------------------------------------------\n",
            " medallion          | 9E28C3598E3575951F8AD16241E5B874 \n",
            " hack_license       | 7568B4EB4A5D30A41F53ED359BF81B7A \n",
            " vendor_id          | VTS                              \n",
            " rate_code          | 1                                \n",
            " store_and_fwd_flag | NULL                             \n",
            " pickup_datetime    | 01-01-13 04:00                   \n",
            " dropoff_datetime   | 01-01-13 04:18                   \n",
            " passenger_count    | 1                                \n",
            " pickup_longitude   | -73.96067                        \n",
            " pickup_latitude    | 40.797329                        \n",
            " dropoff_longitude  | -73.924156                       \n",
            " dropoff_latitude   | 40.760742                        \n",
            "-RECORD 7----------------------------------------------\n",
            " medallion          | 72427BE07CFC31814826BCE9EB92D8D5 \n",
            " hack_license       | BC06BC4CB757E3F09B1F65C055ADC51B \n",
            " vendor_id          | VTS                              \n",
            " rate_code          | 1                                \n",
            " store_and_fwd_flag | NULL                             \n",
            " pickup_datetime    | 01-01-13 06:24                   \n",
            " dropoff_datetime   | 01-01-13 06:29                   \n",
            " passenger_count    | 6                                \n",
            " pickup_longitude   | 0.0                              \n",
            " pickup_latitude    | 0.0                              \n",
            " dropoff_longitude  | 0.0                              \n",
            " dropoff_latitude   | 0.0                              \n",
            "-RECORD 8----------------------------------------------\n",
            " medallion          | 2242A513238185D3AD7704A75EF21FB8 \n",
            " hack_license       | B9D6CB5BB1ECE2FC4010272137D2A336 \n",
            " vendor_id          | VTS                              \n",
            " rate_code          | 1                                \n",
            " store_and_fwd_flag | NULL                             \n",
            " pickup_datetime    | 01-01-13 07:14                   \n",
            " dropoff_datetime   | 01-01-13 07:25                   \n",
            " passenger_count    | 1                                \n",
            " pickup_longitude   | 0.0                              \n",
            " pickup_latitude    | 0.0                              \n",
            " dropoff_longitude  | 0.0                              \n",
            " dropoff_latitude   | 0.0                              \n",
            "-RECORD 9----------------------------------------------\n",
            " medallion          | 333D72A3E9C09AD9EFBF79F549EFA67B \n",
            " hack_license       | ED57BB723A58FFF10DCA8AC08AC1B103 \n",
            " vendor_id          | CMT                              \n",
            " rate_code          | 1                                \n",
            " store_and_fwd_flag | N                                \n",
            " pickup_datetime    | 01-01-13 09:19                   \n",
            " dropoff_datetime   | 01-01-13 09:21                   \n",
            " passenger_count    | 1                                \n",
            " pickup_longitude   | -73.954796                       \n",
            " pickup_latitude    | 40.59893                         \n",
            " dropoff_longitude  | -73.950531                       \n",
            " dropoff_latitude   | 40.604225                        \n",
            "-RECORD 10---------------------------------------------\n",
            " medallion          | 8EB9CE00A5AD729095BC542FC5FDB5F4 \n",
            " hack_license       | 0766C20575FB088022E9B7D889D899A3 \n",
            " vendor_id          | VTS                              \n",
            " rate_code          | 1                                \n",
            " store_and_fwd_flag | NULL                             \n",
            " pickup_datetime    | 01-01-13 10:31                   \n",
            " dropoff_datetime   | 01-01-13 10:45                   \n",
            " passenger_count    | 1                                \n",
            " pickup_longitude   | -73.991516                       \n",
            " pickup_latitude    | 40.75798                         \n",
            " dropoff_longitude  | -74.016251                       \n",
            " dropoff_latitude   | 40.706989                        \n",
            "-RECORD 11---------------------------------------------\n",
            " medallion          | 54E0A7E84EAFDF6D0C70DC8E8A272FD9 \n",
            " hack_license       | 6FB0B9EA44C28EF6E5CEA27955C6B498 \n",
            " vendor_id          | VTS                              \n",
            " rate_code          | 1                                \n",
            " store_and_fwd_flag | NULL                             \n",
            " pickup_datetime    | 01-01-13 11:47                   \n",
            " dropoff_datetime   | 01-01-13 11:56                   \n",
            " passenger_count    | 6                                \n",
            " pickup_longitude   | -73.997284                       \n",
            " pickup_latitude    | 40.766659                        \n",
            " dropoff_longitude  | -73.99337                        \n",
            " dropoff_latitude   | 40.752247                        \n",
            "-RECORD 12---------------------------------------------\n",
            " medallion          | 55FB6B6C0F0DFCE20E7E48859CAA45AD \n",
            " hack_license       | A91BC1388E64E71C15CDE316649A2D0E \n",
            " vendor_id          | VTS                              \n",
            " rate_code          | 1                                \n",
            " store_and_fwd_flag | NULL                             \n",
            " pickup_datetime    | 01-01-13 13:47                   \n",
            " dropoff_datetime   | 01-01-13 13:53                   \n",
            " passenger_count    | 1                                \n",
            " pickup_longitude   | 0.0                              \n",
            " pickup_latitude    | 0.0                              \n",
            " dropoff_longitude  | 0.0                              \n",
            " dropoff_latitude   | 0.0                              \n",
            "-RECORD 13---------------------------------------------\n",
            " medallion          | B81DC8EF25CA60D2269F8049DBB1F5A5 \n",
            " hack_license       | 33558B467D79E04FE8FCB6CACEC0E237 \n",
            " vendor_id          | VTS                              \n",
            " rate_code          | 1                                \n",
            " store_and_fwd_flag | NULL                             \n",
            " pickup_datetime    | 01-01-13 13:55                   \n",
            " dropoff_datetime   | 01-01-13 13:58                   \n",
            " passenger_count    | 1                                \n",
            " pickup_longitude   | -73.974487                       \n",
            " pickup_latitude    | 40.746834                        \n",
            " dropoff_longitude  | -73.984779                       \n",
            " dropoff_latitude   | 40.732513                        \n",
            "-RECORD 14---------------------------------------------\n",
            " medallion          | D80FD255D1921207A256F30136F4DBB2 \n",
            " hack_license       | F7738A2349674017FB20FD422A3CD2E1 \n",
            " vendor_id          | VTS                              \n",
            " rate_code          | 2                                \n",
            " store_and_fwd_flag | NULL                             \n",
            " pickup_datetime    | 01-01-13 13:30                   \n",
            " dropoff_datetime   | 01-01-13 13:58                   \n",
            " passenger_count    | 1                                \n",
            " pickup_longitude   | -73.789696                       \n",
            " pickup_latitude    | 40.645226                        \n",
            " dropoff_longitude  | -73.993439                       \n",
            " dropoff_latitude   | 40.736015                        \n",
            "-RECORD 15---------------------------------------------\n",
            " medallion          | 8E189DABE265CC03FEF4BFC695B32559 \n",
            " hack_license       | 906939B31C0B93768242A58A682412B8 \n",
            " vendor_id          | CMT                              \n",
            " rate_code          | 1                                \n",
            " store_and_fwd_flag | N                                \n",
            " pickup_datetime    | 01-01-13 14:02                   \n",
            " dropoff_datetime   | 01-01-13 14:27                   \n",
            " passenger_count    | 2                                \n",
            " pickup_longitude   | -73.862709                       \n",
            " pickup_latitude    | 40.769142                        \n",
            " dropoff_longitude  | -73.982079                       \n",
            " dropoff_latitude   | 40.762295                        \n",
            "-RECORD 16---------------------------------------------\n",
            " medallion          | 89D227B655E5C82AECF13C3F540D4CF4 \n",
            " hack_license       | BA96DE419E711691B9445D6A6307C170 \n",
            " vendor_id          | CMT                              \n",
            " rate_code          | 1                                \n",
            " store_and_fwd_flag | N                                \n",
            " pickup_datetime    | 01-01-13 15:11                   \n",
            " dropoff_datetime   | 01-01-13 15:18                   \n",
            " passenger_count    | 4                                \n",
            " pickup_longitude   | -73.978165                       \n",
            " pickup_latitude    | 40.757977                        \n",
            " dropoff_longitude  | -73.989838                       \n",
            " dropoff_latitude   | 40.751171                        \n",
            "-RECORD 17---------------------------------------------\n",
            " medallion          | 333D72A3E9C09AD9EFBF79F549EFA67B \n",
            " hack_license       | ED57BB723A58FFF10DCA8AC08AC1B103 \n",
            " vendor_id          | CMT                              \n",
            " rate_code          | 1                                \n",
            " store_and_fwd_flag | N                                \n",
            " pickup_datetime    | 01-01-13 16:06                   \n",
            " dropoff_datetime   | 01-01-13 16:22                   \n",
            " passenger_count    | 2                                \n",
            " pickup_longitude   | -73.989059                       \n",
            " pickup_latitude    | 40.750572                        \n",
            " dropoff_longitude  | -73.973686                       \n",
            " dropoff_latitude   | 40.755997                        \n",
            "-RECORD 18---------------------------------------------\n",
            " medallion          | E9BA494DC1A1F26D186394EFBB8327CF \n",
            " hack_license       | BBF604B3A2426BFBAAC982AAAA0BF1B5 \n",
            " vendor_id          | CMT                              \n",
            " rate_code          | 1                                \n",
            " store_and_fwd_flag | N                                \n",
            " pickup_datetime    | 01-01-13 16:46                   \n",
            " dropoff_datetime   | 01-01-13 16:56                   \n",
            " passenger_count    | 1                                \n",
            " pickup_longitude   | -73.959908                       \n",
            " pickup_latitude    | 40.806396                        \n",
            " dropoff_longitude  | -73.983292                       \n",
            " dropoff_latitude   | 40.775673                        \n",
            "-RECORD 19---------------------------------------------\n",
            " medallion          | 5C1E310A26EEE17AA72AFE63194DE5B5 \n",
            " hack_license       | A56B275487B0D09E6BA4C8801E0B2BE3 \n",
            " vendor_id          | CMT                              \n",
            " rate_code          | 1                                \n",
            " store_and_fwd_flag | N                                \n",
            " pickup_datetime    | 01-01-13 17:11                   \n",
            " dropoff_datetime   | 01-01-13 17:17                   \n",
            " passenger_count    | 3                                \n",
            " pickup_longitude   | -73.98793                        \n",
            " pickup_latitude    | 40.749542                        \n",
            " dropoff_longitude  | -73.978981                       \n",
            " dropoff_latitude   | 40.766735                        \n",
            "only showing top 20 rows\n",
            "\n"
          ]
        }
      ]
    },
    {
      "cell_type": "code",
      "source": [
        "from pyspark.sql import SparkSession\n",
        "\n",
        "# Initialize Spark session\n",
        "spark = SparkSession.builder.appName(\"SparkSQLExample\").getOrCreate()\n",
        "\n",
        "# Create DataFrame\n",
        "data = [(\"Alice\", 25), (\"Bob\", 30), (\"Charlie\", 35)]\n",
        "columns = [\"name\", \"age\"]\n",
        "df = spark.createDataFrame(data, columns)\n",
        "\n",
        "# Register the DataFrame as a temporary SQL table\n",
        "df.createOrReplaceTempView(\"people\")\n",
        "\n",
        "# Run SQL query\n",
        "result = spark.sql(\"SELECT name, age FROM people WHERE age > 28\")\n",
        "result.show()"
      ],
      "metadata": {
        "colab": {
          "base_uri": "https://localhost:8080/"
        },
        "id": "rRIy8Tz9H5I-",
        "outputId": "70d056d5-d68a-44b1-89e1-fbe066a81b79"
      },
      "execution_count": 14,
      "outputs": [
        {
          "output_type": "stream",
          "name": "stdout",
          "text": [
            "+-------+---+\n",
            "|   name|age|\n",
            "+-------+---+\n",
            "|    Bob| 30|\n",
            "|Charlie| 35|\n",
            "+-------+---+\n",
            "\n"
          ]
        }
      ]
    }
  ]
}